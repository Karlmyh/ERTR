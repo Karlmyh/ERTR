{
 "cells": [
  {
   "cell_type": "code",
   "execution_count": 134,
   "metadata": {},
   "outputs": [],
   "source": [
    "import os\n",
    "import numpy as np \n",
    "import pandas as pd\n",
    "import glob\n",
    "import scipy\n",
    "\n",
    "import warnings\n",
    "warnings.filterwarnings('ignore')"
   ]
  },
  {
   "cell_type": "code",
   "execution_count": 183,
   "metadata": {},
   "outputs": [],
   "source": [
    "def significance_test(log, summary, rank = 1, sig_level = 0.05, criterion = \"mse\"):\n",
    "    \n",
    "    \n",
    "    sig_result_vec = []\n",
    "    \n",
    "    for data_name in list(summary[\"mean\"][criterion].columns):\n",
    "        \n",
    "        mean_seq = summary[\"mean\"][criterion][data_name]\n",
    "        \n",
    "        best_method = mean_seq.index[mean_seq.rank()==rank][0]\n",
    "        \n",
    "        num_sig = 0\n",
    "        \n",
    "        # get two test seq \n",
    "        for method in list(mean_seq.index):\n",
    "            if data_name == \"ccpp\":\n",
    "                    continue\n",
    "          \n",
    "            if best_method == method:\n",
    "                continue\n",
    "            seq_best = log[(log[\"dataset\"] == data_name) * (log[\"method\"] == best_method)][criterion].to_numpy()\n",
    "            seq_test = log[(log[\"dataset\"] == data_name) * (log[\"method\"] == method)][criterion].to_numpy()\n",
    "            \n",
    "            \n",
    "           \n",
    "            if seq_test.shape[0]==0:\n",
    "                num_sig +=1\n",
    "            else:\n",
    "             \n",
    "                if wilcoxon(seq_best-seq_test, alternative = \"less\").pvalue < sig_level:\n",
    "                 \n",
    "                    num_sig +=1\n",
    "                   \n",
    "            \n",
    "        sig_result_vec.append([data_name, num_sig])\n",
    "        \n",
    "        \n",
    "    return sig_result_vec\n",
    "                \n",
    "            \n",
    "            \n",
    "            \n",
    "            \n"
   ]
  },
  {
   "cell_type": "code",
   "execution_count": 184,
   "metadata": {},
   "outputs": [
    {
     "name": "stdout",
     "output_type": "stream",
     "text": [
      "['RTER', 'PRT', 'STRT', 'ST', 'DT']\n"
     ]
    }
   ],
   "source": [
    "\n",
    "# real data tree summarize\n",
    "log_file_dir = \"../realdata_tree\"\n",
    "\n",
    "ST_table = pd.read_csv(\"../realdata_tree/ST.txt\",header = None)\n",
    "ST_table.to_csv(\"../realdata_tree/ST.csv\", header = None, index = None)\n",
    "\n",
    "\n",
    "\n",
    "method_seq = glob.glob(\"{}/*.csv\".format(log_file_dir))\n",
    "method_seq = [os.path.split(method)[1].split('.')[0] for method in method_seq]\n",
    "\n",
    "print(method_seq)\n",
    "summarize_log=pd.DataFrame([])\n",
    "\n",
    "for method in method_seq:\n",
    "    log = pd.read_csv(\"{}/{}.csv\".format(log_file_dir,method), header=None)\n",
    "    log.columns = \"dataset,mse,time,iteration\".split(',')\n",
    "    log[\"method\"]=method\n",
    "    summarize_log=summarize_log.append(log)\n",
    "    \n",
    "    \n",
    "summary = pd.pivot_table(summarize_log, index=[\"method\"],columns=[\"dataset\"], values=[ \"mse\",\"time\"], aggfunc=[np.mean, np.std, len])"
   ]
  },
  {
   "cell_type": "code",
   "execution_count": null,
   "metadata": {},
   "outputs": [],
   "source": []
  },
  {
   "cell_type": "code",
   "execution_count": 185,
   "metadata": {
    "scrolled": true
   },
   "outputs": [
    {
     "data": {
      "text/plain": [
       "[['abalone', 4],\n",
       " ['airfoil', 4],\n",
       " ['algerian', 1],\n",
       " ['aquatic', 4],\n",
       " ['bias', 4],\n",
       " ['building', 4],\n",
       " ['cbm', 4],\n",
       " ['ccpp', 0],\n",
       " ['communities', 4],\n",
       " ['concrete', 4],\n",
       " ['cpusmall_scale', 4],\n",
       " ['dakbilgic', 2],\n",
       " ['fish', 3],\n",
       " ['forestfires', 2],\n",
       " ['housing_scale', 2],\n",
       " ['mg_scale', 4],\n",
       " ['mpg_scale', 3],\n",
       " ['music', 3],\n",
       " ['portfolio', 4],\n",
       " ['redwine', 4],\n",
       " ['space_ga_scale', 3],\n",
       " ['whitewine', 3],\n",
       " ['yacht', 3]]"
      ]
     },
     "execution_count": 185,
     "metadata": {},
     "output_type": "execute_result"
    }
   ],
   "source": [
    "significance_test(summarize_log,summary,1)"
   ]
  },
  {
   "cell_type": "code",
   "execution_count": null,
   "metadata": {},
   "outputs": [],
   "source": []
  },
  {
   "cell_type": "code",
   "execution_count": null,
   "metadata": {},
   "outputs": [],
   "source": []
  },
  {
   "cell_type": "code",
   "execution_count": 193,
   "metadata": {},
   "outputs": [
    {
     "name": "stdout",
     "output_type": "stream",
     "text": [
      "['RTR', 'RTER', 'PRT', 'STRT']\n"
     ]
    }
   ],
   "source": [
    "\n",
    "# real data tree summarize\n",
    "log_file_dir = \"../realdata_random_tree\"\n",
    "\n",
    "\n",
    "\n",
    "method_seq = glob.glob(\"{}/*.csv\".format(log_file_dir))\n",
    "method_seq = [os.path.split(method)[1].split('.')[0] for method in method_seq]\n",
    "\n",
    "print(method_seq)\n",
    "summarize_log=pd.DataFrame([])\n",
    "\n",
    "for method in method_seq:\n",
    "    log = pd.read_csv(\"{}/{}.csv\".format(log_file_dir,method), header=None)\n",
    "    log.columns = \"dataset,mse,time,iteration\".split(',')\n",
    "    log[\"method\"]=method\n",
    "    summarize_log=summarize_log.append(log)\n",
    "    \n",
    "    \n",
    "summary = pd.pivot_table(summarize_log, index=[\"method\"],columns=[\"dataset\"], values=[ \"mse\",\"time\"], aggfunc=[np.mean, np.std, len])"
   ]
  },
  {
   "cell_type": "code",
   "execution_count": null,
   "metadata": {},
   "outputs": [],
   "source": []
  },
  {
   "cell_type": "code",
   "execution_count": 194,
   "metadata": {
    "scrolled": true
   },
   "outputs": [
    {
     "data": {
      "text/plain": [
       "[['abalone', 2],\n",
       " ['airfoil', 2],\n",
       " ['algerian', 2],\n",
       " ['bias', 3],\n",
       " ['cbm', 1],\n",
       " ['ccpp', 0],\n",
       " ['cpusmall_scale', 3],\n",
       " ['dakbilgic', 3],\n",
       " ['forestfires', 1],\n",
       " ['housing_scale', 3],\n",
       " ['mg_scale', 3],\n",
       " ['redwine', 3],\n",
       " ['space_ga_scale', 3],\n",
       " ['whitewine', 3]]"
      ]
     },
     "execution_count": 194,
     "metadata": {},
     "output_type": "execute_result"
    }
   ],
   "source": [
    "significance_test(summarize_log,summary,1)"
   ]
  },
  {
   "cell_type": "code",
   "execution_count": 186,
   "metadata": {},
   "outputs": [
    {
     "name": "stdout",
     "output_type": "stream",
     "text": [
      "['RTER-RF', 'PRRF', 'RF', 'SBART']\n"
     ]
    }
   ],
   "source": [
    "\n",
    "# real data tree summarize\n",
    "log_file_dir = \"../realdata_forest\"\n",
    "\n",
    "\n",
    "\n",
    "method_seq = glob.glob(\"{}/*.csv\".format(log_file_dir))\n",
    "method_seq = [os.path.split(method)[1].split('.')[0] for method in method_seq]\n",
    "\n",
    "print(method_seq)\n",
    "summarize_log=pd.DataFrame([])\n",
    "\n",
    "for method in method_seq:\n",
    "    log = pd.read_csv(\"{}/{}.csv\".format(log_file_dir,method), header=None)\n",
    "    log.columns = \"dataset,mse,time,iteration\".split(',')\n",
    "    log[\"method\"]=method\n",
    "    summarize_log=summarize_log.append(log)\n",
    "    \n",
    "    \n",
    "summary = pd.pivot_table(summarize_log, index=[\"method\"],columns=[\"dataset\"], values=[ \"mse\",\"time\"], aggfunc=[np.mean, np.std, len])"
   ]
  },
  {
   "cell_type": "code",
   "execution_count": null,
   "metadata": {},
   "outputs": [],
   "source": []
  },
  {
   "cell_type": "code",
   "execution_count": 187,
   "metadata": {},
   "outputs": [
    {
     "data": {
      "text/plain": [
       "[['abalone', 1],\n",
       " ['airfoil', 3],\n",
       " ['algerian', 1],\n",
       " ['aquatic', 2],\n",
       " ['bias', 3],\n",
       " ['building', 3],\n",
       " ['cbm', 3],\n",
       " ['ccpp', 0],\n",
       " ['communities', 2],\n",
       " ['concrete', 3],\n",
       " ['cpusmall_scale', 3],\n",
       " ['dakbilgic', 2],\n",
       " ['fish', 3],\n",
       " ['forestfires', 1],\n",
       " ['housing_scale', 3],\n",
       " ['mg_scale', 2],\n",
       " ['mpg_scale', 3],\n",
       " ['music', 2],\n",
       " ['portfolio', 3],\n",
       " ['redwine', 2],\n",
       " ['space_ga_scale', 3],\n",
       " ['whitewine', 3],\n",
       " ['yacht', 3]]"
      ]
     },
     "execution_count": 187,
     "metadata": {},
     "output_type": "execute_result"
    }
   ],
   "source": [
    "significance_test(summarize_log,summary,1)"
   ]
  },
  {
   "cell_type": "code",
   "execution_count": null,
   "metadata": {},
   "outputs": [],
   "source": []
  },
  {
   "cell_type": "code",
   "execution_count": 188,
   "metadata": {},
   "outputs": [
    {
     "name": "stdout",
     "output_type": "stream",
     "text": [
      "['RTER-boosting', 'GBRT', 'STRB', 'PRB']\n"
     ]
    }
   ],
   "source": [
    "\n",
    "# real data tree summarize\n",
    "log_file_dir = \"../realdata_boosting\"\n",
    "\n",
    "\n",
    "\n",
    "method_seq = glob.glob(\"{}/*.csv\".format(log_file_dir))\n",
    "method_seq = [os.path.split(method)[1].split('.')[0] for method in method_seq]\n",
    "\n",
    "print(method_seq)\n",
    "summarize_log=pd.DataFrame([])\n",
    "\n",
    "for method in method_seq:\n",
    "    log = pd.read_csv(\"{}/{}.csv\".format(log_file_dir,method), header=None)\n",
    "    log.columns = \"dataset,mse,time,iteration\".split(',')\n",
    "    log[\"method\"]=method\n",
    "    summarize_log=summarize_log.append(log)\n",
    "    \n",
    "    \n",
    "summary = pd.pivot_table(summarize_log, index=[\"method\"],columns=[\"dataset\"], values=[ \"mse\",\"time\"], aggfunc=[np.mean, np.std, len])"
   ]
  },
  {
   "cell_type": "code",
   "execution_count": 189,
   "metadata": {},
   "outputs": [
    {
     "data": {
      "text/plain": [
       "[['abalone', 0],\n",
       " ['airfoil', 3],\n",
       " ['algerian', 1],\n",
       " ['aquatic', 3],\n",
       " ['bias', 2],\n",
       " ['building', 3],\n",
       " ['cbm', 3],\n",
       " ['ccpp', 0],\n",
       " ['communities', 3],\n",
       " ['concrete', 3],\n",
       " ['cpusmall_scale', 2],\n",
       " ['dakbilgic', 0],\n",
       " ['facebook', 3],\n",
       " ['fish', 3],\n",
       " ['forestfires', 1],\n",
       " ['housing_scale', 3],\n",
       " ['mg_scale', 2],\n",
       " ['mpg_scale', 3],\n",
       " ['music', 3],\n",
       " ['portfolio', 3],\n",
       " ['redwine', 1],\n",
       " ['space_ga_scale', 2],\n",
       " ['whitewine', 3],\n",
       " ['yacht', 3]]"
      ]
     },
     "execution_count": 189,
     "metadata": {},
     "output_type": "execute_result"
    }
   ],
   "source": [
    "significance_test(summarize_log,summary,1)"
   ]
  },
  {
   "cell_type": "code",
   "execution_count": null,
   "metadata": {},
   "outputs": [],
   "source": []
  }
 ],
 "metadata": {
  "kernelspec": {
   "display_name": "Python 3",
   "language": "python",
   "name": "python3"
  },
  "language_info": {
   "codemirror_mode": {
    "name": "ipython",
    "version": 3
   },
   "file_extension": ".py",
   "mimetype": "text/x-python",
   "name": "python",
   "nbconvert_exporter": "python",
   "pygments_lexer": "ipython3",
   "version": "3.7.9"
  }
 },
 "nbformat": 4,
 "nbformat_minor": 4
}
